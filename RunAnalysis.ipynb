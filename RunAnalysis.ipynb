{
 "metadata": {
  "name": "RunAnalysis"
 },
 "nbformat": 3,
 "nbformat_minor": 0,
 "worksheets": [
  {
   "cells": [
    {
     "cell_type": "markdown",
     "metadata": {},
     "source": [
      "Run Analysis\n",
      "=\n"
     ]
    },
    {
     "cell_type": "code",
     "collapsed": false,
     "input": [
      "from bs4 import BeautifulSoup\n",
      "import urllib2\n",
      "\n",
      "runlengths=[]\n",
      "gas = []\n",
      "target = []\n",
      "\n",
      "#stepping through run numbers and extracting run info from each page\n",
      "runrange = range(4494, 5366)\n",
      "for i in runrange:\n",
      "    if i %50 == 0: print \"run 40000\" + str(i)\n",
      "    \n",
      "    #opening a run page\n",
      "    niffteweb = \"http://nuclear.calpoly.edu/niffteweb/runinfo/run/40000\" + str(i)\n",
      "    try:\n",
      "        response = urllib2.urlopen(niffteweb, timeout = 2)\n",
      "    except urllib2.URLError:\n",
      "        print 'URL error, run ' + str(i)\n",
      "        continue\n",
      "    html = response.read()\n",
      "    \n",
      "    #finding the table in the html\n",
      "    soup = BeautifulSoup(html)\n",
      "    table = soup.find('table')\n",
      "\n",
      "    #creating a list of strings from the data table\n",
      "    run = []\n",
      "    try :\n",
      "        for i in table.children:\n",
      "            run.append(str(i))\n",
      "    except AttributeError:\n",
      "        print 'table error, run ' + str(i)\n",
      "        continue\n",
      "    run = run[1:-1]\n",
      "\n",
      "    #string manipulation to get data into arrays\n",
      "    for i in run:\n",
      "        if 'Length' in i:\n",
      "            i = i[10:]\n",
      "            i = i[:-11]\n",
      "            a = i.split(' </th>\\n<td> ')[1]\n",
      "            a = a.split(' min')[0]\n",
      "            runlengths.append(float(a))\n",
      "        if 'Target' in i:\n",
      "            i = i[10:]\n",
      "            i = i[:-11]\n",
      "            a = i.split(' </th>\\n<td> ')[1]\n",
      "            target.append(a)\n",
      "        if 'Gas' in i:\n",
      "            i = i[10:]\n",
      "            i = i[:-11]\n",
      "            a = i.split(' </th>\\n<td> ')[1]\n",
      "            gas.append(a)"
     ],
     "language": "python",
     "metadata": {},
     "outputs": [
      {
       "output_type": "stream",
       "stream": "stdout",
       "text": [
        "run 400004500\n",
        "run 400004550"
       ]
      },
      {
       "output_type": "stream",
       "stream": "stdout",
       "text": [
        "\n",
        "run 400004600"
       ]
      },
      {
       "output_type": "stream",
       "stream": "stdout",
       "text": [
        "\n",
        "run 400004650"
       ]
      },
      {
       "output_type": "stream",
       "stream": "stdout",
       "text": [
        "\n",
        "URL error, run 4686"
       ]
      },
      {
       "output_type": "stream",
       "stream": "stdout",
       "text": [
        "\n",
        "URL error, run 4687"
       ]
      },
      {
       "output_type": "stream",
       "stream": "stdout",
       "text": [
        "\n",
        "URL error, run 4688"
       ]
      },
      {
       "output_type": "stream",
       "stream": "stdout",
       "text": [
        "\n",
        "URL error, run 4689"
       ]
      },
      {
       "output_type": "stream",
       "stream": "stdout",
       "text": [
        "\n",
        "run 400004700"
       ]
      },
      {
       "output_type": "stream",
       "stream": "stdout",
       "text": [
        "\n",
        "run 400004750"
       ]
      },
      {
       "output_type": "stream",
       "stream": "stdout",
       "text": [
        "\n",
        "run 400004800"
       ]
      },
      {
       "output_type": "stream",
       "stream": "stdout",
       "text": [
        "\n",
        "table error, run 4830"
       ]
      },
      {
       "output_type": "stream",
       "stream": "stdout",
       "text": [
        "\n",
        "table error, run 4846"
       ]
      },
      {
       "output_type": "stream",
       "stream": "stdout",
       "text": [
        "\n",
        "run 400004850"
       ]
      },
      {
       "output_type": "stream",
       "stream": "stdout",
       "text": [
        "\n",
        "URL error, run 4881"
       ]
      },
      {
       "output_type": "stream",
       "stream": "stdout",
       "text": [
        "\n",
        "URL error, run 4882"
       ]
      },
      {
       "output_type": "stream",
       "stream": "stdout",
       "text": [
        "\n",
        "URL error, run 4883"
       ]
      },
      {
       "output_type": "stream",
       "stream": "stdout",
       "text": [
        "\n",
        "URL error, run 4884"
       ]
      },
      {
       "output_type": "stream",
       "stream": "stdout",
       "text": [
        "\n",
        "table error, run 4885"
       ]
      },
      {
       "output_type": "stream",
       "stream": "stdout",
       "text": [
        "\n",
        "table error, run 4890"
       ]
      },
      {
       "output_type": "stream",
       "stream": "stdout",
       "text": [
        "\n",
        "table error, run 4894"
       ]
      },
      {
       "output_type": "stream",
       "stream": "stdout",
       "text": [
        "\n",
        "table error, run 4899"
       ]
      },
      {
       "output_type": "stream",
       "stream": "stdout",
       "text": [
        "\n",
        "run 400004900\n",
        "run 400004950"
       ]
      },
      {
       "output_type": "stream",
       "stream": "stdout",
       "text": [
        "\n",
        "run 400005000"
       ]
      },
      {
       "output_type": "stream",
       "stream": "stdout",
       "text": [
        "\n",
        "run 400005050"
       ]
      },
      {
       "output_type": "stream",
       "stream": "stdout",
       "text": [
        "\n",
        "URL error, run 5077"
       ]
      },
      {
       "output_type": "stream",
       "stream": "stdout",
       "text": [
        "\n",
        "URL error, run 5078"
       ]
      },
      {
       "output_type": "stream",
       "stream": "stdout",
       "text": [
        "\n",
        "URL error, run 5079"
       ]
      },
      {
       "output_type": "stream",
       "stream": "stdout",
       "text": [
        "\n",
        "URL error, run 5080"
       ]
      },
      {
       "output_type": "stream",
       "stream": "stdout",
       "text": [
        "\n",
        "run 400005100"
       ]
      },
      {
       "output_type": "stream",
       "stream": "stdout",
       "text": [
        "\n",
        "run 400005150"
       ]
      },
      {
       "output_type": "stream",
       "stream": "stdout",
       "text": [
        "\n",
        "run 400005200"
       ]
      },
      {
       "output_type": "stream",
       "stream": "stdout",
       "text": [
        "\n",
        "run 400005250"
       ]
      },
      {
       "output_type": "stream",
       "stream": "stdout",
       "text": [
        "\n",
        "URL error, run 5273"
       ]
      },
      {
       "output_type": "stream",
       "stream": "stdout",
       "text": [
        "\n",
        "URL error, run 5274"
       ]
      },
      {
       "output_type": "stream",
       "stream": "stdout",
       "text": [
        "\n",
        "URL error, run 5275"
       ]
      },
      {
       "output_type": "stream",
       "stream": "stdout",
       "text": [
        "\n",
        "URL error, run 5276"
       ]
      },
      {
       "output_type": "stream",
       "stream": "stdout",
       "text": [
        "\n",
        "run 400005300"
       ]
      },
      {
       "output_type": "stream",
       "stream": "stdout",
       "text": [
        "\n",
        "run 400005350"
       ]
      },
      {
       "output_type": "stream",
       "stream": "stdout",
       "text": [
        "\n"
       ]
      }
     ],
     "prompt_number": 2
    },
    {
     "cell_type": "code",
     "collapsed": false,
     "input": [
      "import operator\n",
      "\n",
      "#plotting runlengths in a histogram\n",
      "hist(runlengths, bins=12, range=(0,30))\n",
      "title(\"Histogram of run lengths\")\n",
      "ylabel(\"runs\")\n",
      "xlabel(\"run length in minutes\")\n",
      "show()\n",
      "savefig('runhisto.png')\n",
      "\n",
      "#plotting gas histo\n",
      "gasdict = dict((x, gas.count(x)) for x in gas)\n",
      "sorted_gas = sorted(gasdict.iteritems(), key=operator.itemgetter(1))\n",
      "print 'GAS:'\n",
      "for i in sorted_gas: print i\n",
      "\n",
      "#targets\n",
      "targetdict = dict((x, target.count(x)) for x in target)\n",
      "sorted_target = sorted(targetdict.iteritems(), key=operator.itemgetter(1))\n",
      "print 'Target:'\n",
      "for i in sorted_target: print i"
     ],
     "language": "python",
     "metadata": {},
     "outputs": [
      {
       "output_type": "display_data",
       "png": "[encoded data removed]"
      },
      {
       "output_type": "stream",
       "stream": "stdout",
       "text": [
        "GAS:\n",
        "('95% Ar 2% Isobutane ', 1)\n",
        "('98% Ar 3% Isobutane ', 4)\n",
        "('95% Ar 5% Isobutane (eventually ', 7)\n",
        "('97% Ar 3% Isobutane ', 12)\n",
        "('98% Ar 2% Isobutane ', 12)\n",
        "('10% Isobutane, Ar ', 14)\n",
        "('2% Iso/Ar ', 14)\n",
        "('1% Isobutane, Ar ', 32)\n",
        "('5% Iso/Ar ', 35)\n",
        "('P10 ', 46)\n",
        "('3% Isobutane, Ar ', 49)\n",
        "('5% Isobutane, Ar ', 92)\n",
        "('P-10 ', 122)\n",
        "('2% Isobutane, Ar ', 124)\n",
        "('95% Ar 5% Isobutane ', 141)\n",
        "('0.5% Isobutane, Ar ', 145)\n",
        "Target:"
       ]
      },
      {
       "output_type": "stream",
       "stream": "stdout",
       "text": [
        "\n",
        "('Pu239/Polypropylene ', 3)\n",
        "('Pu239/Polypropylene-thin ', 11)\n",
        "('Pu239/Polypropylene, thin ', 350)\n",
        "('U235/Pu239 ', 486)\n"
       ]
      }
     ],
     "prompt_number": 3
    },
    {
     "cell_type": "code",
     "collapsed": false,
     "input": [
      "#figure out which fraction of the 20 minute runs are in those top 3 gas and which target they are\n",
      "gastwenty, tartwenty = [], []\n",
      "for i in range(len(runlengths)):\n",
      "    if runlengths[i] == 20.0:\n",
      "        gastwenty.append(gas[i])\n",
      "        tartwenty.append(target[i])\n",
      "tot = 0\n",
      "#sorting and displaying gas\n",
      "gasdict = dict((x, gastwenty.count(x)) for x in gastwenty)\n",
      "sorted_gas = sorted(gasdict.iteritems(), key=operator.itemgetter(1))\n",
      "print '20.0 minute gas:'\n",
      "for i in sorted_gas:\n",
      "    tot += i[1]\n",
      "    \n",
      "for i in sorted_gas:\n",
      "    a = (float(i[1])/tot) * 100\n",
      "    print str(i[0]) + ': ' + (\"%.2f\" % a) + '%'\n",
      "    \n",
      "#sorting and displaying targets\n",
      "targetdict = dict((x, tartwenty.count(x)) for x in tartwenty)\n",
      "sorted_target = sorted(targetdict.iteritems(), key=operator.itemgetter(1))\n",
      "tot =0\n",
      "print '\\n20.0 minute targets:'\n",
      "for i in sorted_target:\n",
      "    tot += i[1]\n",
      "for i in sorted_target:\n",
      "    a = (float(i[1])/tot) * 100\n",
      "    print str(i[0]) + ': ' + (\"%.2f\" % a) + '%'"
     ],
     "language": "python",
     "metadata": {},
     "outputs": [
      {
       "output_type": "stream",
       "stream": "stdout",
       "text": [
        "20.0 GAS:\n",
        "2% Iso/Ar : 0.31%\n",
        "P10 : 1.54%\n",
        "1% Isobutane, Ar : 3.08%\n",
        "3% Isobutane, Ar : 3.38%\n",
        "95% Ar 5% Isobutane : 6.46%\n",
        "5% Iso/Ar : 8.31%\n",
        "5% Isobutane, Ar : 12.00%\n",
        "P-10 : 12.62%\n",
        "2% Isobutane, Ar : 22.15%\n",
        "0.5% Isobutane, Ar : 30.15%\n",
        "\n",
        "20.0 TARGET:\n",
        "Pu239/Polypropylene, thin : 18.46%\n",
        "U235/Pu239 : 81.54%\n"
       ]
      }
     ],
     "prompt_number": 18
    }
   ],
   "metadata": {}
  }
 ]
}