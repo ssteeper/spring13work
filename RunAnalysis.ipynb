{
 "metadata": {
  "name": "RunAnalysis"
 },
 "nbformat": 3,
 "nbformat_minor": 0,
 "worksheets": [
  {
   "cells": [
    {
     "cell_type": "markdown",
     "metadata": {},
     "source": [
      "Run Analysis\n",
      "=\n"
     ]
    },
    {
     "cell_type": "code",
     "collapsed": false,
     "input": [
      "from bs4 import BeautifulSoup\n",
      "import urllib2\n",
      "\n",
      "runrange = range(4494, 5366)\n",
      "runlengths=np.zeros(872)\n",
      "ndx = 0\n",
      "\n",
      "#stepping through run numbers and extracting run info from each page\n",
      "for i in runrange:\n",
      "    if i %50 == 0: print \"run 40000\" + str(i)\n",
      "    \n",
      "    #opening a run page\n",
      "    niffteweb = \"http://nuclear.calpoly.edu/niffteweb/runinfo/run/40000\" + str(i)\n",
      "    try:\n",
      "        response = urllib2.urlopen(niffteweb, timeout = 2)\n",
      "    except urllib2.URLError:\n",
      "        print 'URL error, run ' + str(i)\n",
      "        continue\n",
      "    html = response.read()\n",
      "    \n",
      "    #finding the table in the html\n",
      "    soup = BeautifulSoup(html)\n",
      "    table = soup.find('table')\n",
      "\n",
      "    #creating a list of strings from the data table\n",
      "    run = []\n",
      "    try :\n",
      "        for i in table.children:\n",
      "            run.append(str(i))\n",
      "    except AttributeError:\n",
      "        print 'table error'\n",
      "        continue\n",
      "    run = run[1:-1]\n",
      "\n",
      "    #string manipulation to get data into arrays\n",
      "    for i in run:\n",
      "        if 'Length' in i:\n",
      "            i = i[10:]\n",
      "            i = i[:-11]\n",
      "            a = i.split(' </th>\\n<td> ')[1]\n",
      "            a = a.split(' min')[0]\n",
      "            runlengths[ndx] = float(a)\n",
      "    ndx+= 1"
     ],
     "language": "python",
     "metadata": {},
     "outputs": [
      {
       "output_type": "stream",
       "stream": "stdout",
       "text": [
        "run 400004500\n",
        "run 400004550"
       ]
      },
      {
       "output_type": "stream",
       "stream": "stdout",
       "text": [
        "\n",
        "run 400004600"
       ]
      },
      {
       "output_type": "stream",
       "stream": "stdout",
       "text": [
        "\n",
        "run 400004650"
       ]
      },
      {
       "output_type": "stream",
       "stream": "stdout",
       "text": [
        "\n",
        "URL error"
       ]
      },
      {
       "output_type": "stream",
       "stream": "stdout",
       "text": [
        "\n",
        "URL error"
       ]
      },
      {
       "output_type": "stream",
       "stream": "stdout",
       "text": [
        "\n",
        "URL error"
       ]
      },
      {
       "output_type": "stream",
       "stream": "stdout",
       "text": [
        "\n",
        "URL error"
       ]
      },
      {
       "output_type": "stream",
       "stream": "stdout",
       "text": [
        "\n",
        "run 400004700"
       ]
      },
      {
       "output_type": "stream",
       "stream": "stdout",
       "text": [
        "\n",
        "run 400004750"
       ]
      },
      {
       "output_type": "stream",
       "stream": "stdout",
       "text": [
        "\n",
        "run 400004800"
       ]
      },
      {
       "output_type": "stream",
       "stream": "stdout",
       "text": [
        "\n",
        "table error"
       ]
      },
      {
       "output_type": "stream",
       "stream": "stdout",
       "text": [
        "\n",
        "table error"
       ]
      },
      {
       "output_type": "stream",
       "stream": "stdout",
       "text": [
        "\n",
        "run 400004850"
       ]
      },
      {
       "output_type": "stream",
       "stream": "stdout",
       "text": [
        "\n",
        "URL error"
       ]
      },
      {
       "output_type": "stream",
       "stream": "stdout",
       "text": [
        "\n",
        "URL error"
       ]
      },
      {
       "output_type": "stream",
       "stream": "stdout",
       "text": [
        "\n",
        "URL error"
       ]
      },
      {
       "output_type": "stream",
       "stream": "stdout",
       "text": [
        "\n",
        "URL error"
       ]
      },
      {
       "output_type": "stream",
       "stream": "stdout",
       "text": [
        "\n",
        "table error"
       ]
      },
      {
       "output_type": "stream",
       "stream": "stdout",
       "text": [
        "\n",
        "table error"
       ]
      },
      {
       "output_type": "stream",
       "stream": "stdout",
       "text": [
        "\n",
        "table error"
       ]
      },
      {
       "output_type": "stream",
       "stream": "stdout",
       "text": [
        "\n",
        "table error"
       ]
      },
      {
       "output_type": "stream",
       "stream": "stdout",
       "text": [
        "\n",
        "table error"
       ]
      },
      {
       "output_type": "stream",
       "stream": "stdout",
       "text": [
        "\n",
        "run 400004900\n",
        "run 400004950"
       ]
      },
      {
       "output_type": "stream",
       "stream": "stdout",
       "text": [
        "\n",
        "run 400005000"
       ]
      },
      {
       "output_type": "stream",
       "stream": "stdout",
       "text": [
        "\n",
        "run 400005050"
       ]
      },
      {
       "output_type": "stream",
       "stream": "stdout",
       "text": [
        "\n",
        "URL error"
       ]
      },
      {
       "output_type": "stream",
       "stream": "stdout",
       "text": [
        "\n",
        "URL error"
       ]
      },
      {
       "output_type": "stream",
       "stream": "stdout",
       "text": [
        "\n",
        "URL error"
       ]
      },
      {
       "output_type": "stream",
       "stream": "stdout",
       "text": [
        "\n",
        "URL error"
       ]
      },
      {
       "output_type": "stream",
       "stream": "stdout",
       "text": [
        "\n",
        "run 400005100"
       ]
      },
      {
       "output_type": "stream",
       "stream": "stdout",
       "text": [
        "\n",
        "run 400005150"
       ]
      },
      {
       "output_type": "stream",
       "stream": "stdout",
       "text": [
        "\n",
        "run 400005200"
       ]
      },
      {
       "output_type": "stream",
       "stream": "stdout",
       "text": [
        "\n",
        "run 400005250"
       ]
      },
      {
       "output_type": "stream",
       "stream": "stdout",
       "text": [
        "\n",
        "URL error"
       ]
      },
      {
       "output_type": "stream",
       "stream": "stdout",
       "text": [
        "\n",
        "URL error"
       ]
      },
      {
       "output_type": "stream",
       "stream": "stdout",
       "text": [
        "\n",
        "URL error"
       ]
      },
      {
       "output_type": "stream",
       "stream": "stdout",
       "text": [
        "\n",
        "URL error"
       ]
      },
      {
       "output_type": "stream",
       "stream": "stdout",
       "text": [
        "\n",
        "run 400005300"
       ]
      },
      {
       "output_type": "stream",
       "stream": "stdout",
       "text": [
        "\n",
        "run 400005350"
       ]
      },
      {
       "output_type": "stream",
       "stream": "stdout",
       "text": [
        "\n"
       ]
      }
     ],
     "prompt_number": 17
    },
    {
     "cell_type": "code",
     "collapsed": false,
     "input": [
      "#plotting runlengths in a histogram\n",
      "mask = (runlengths != 0.0)  #ignoring 0.0 length runs\n",
      "hist(runlengths[mask], bins=12, range=(0,30))\n",
      "title(\"Histogram of run lengths\")\n",
      "ylabel(\"runs\")\n",
      "xlabel(\"run length in minutes\")\n",
      "show()\n",
      "savefig('runhisto.png')\n"
     ],
     "language": "python",
     "metadata": {},
     "outputs": [
      {
       "output_type": "display_data",
       "png": "[encoded data removed]"
      }
     ],
     "prompt_number": 19
    },
    {
     "cell_type": "code",
     "collapsed": false,
     "input": [],
     "language": "python",
     "metadata": {},
     "outputs": []
    }
   ],
   "metadata": {}
  }
 ]
}