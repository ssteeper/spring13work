{
 "metadata": {
  "name": "RunAnalysis"
 },
 "nbformat": 3,
 "nbformat_minor": 0,
 "worksheets": [
  {
   "cells": [
    {
     "cell_type": "markdown",
     "metadata": {},
     "source": [
      "Run Analysis\n",
      "=\n"
     ]
    },
    {
     "cell_type": "code",
     "collapsed": false,
     "input": [
      "from bs4 import BeautifulSoup\n",
      "import urllib2\n",
      "\n",
      "runlengths=[]\n",
      "gas = []\n",
      "target = []\n",
      "\n",
      "#stepping through run numbers and extracting run info from each page\n",
      "runrange = range(4494, 5366)\n",
      "for i in runrange:\n",
      "    runno = i\n",
      "    if i %50 == 0: print \"run 40000\" + str(runno)\n",
      "    \n",
      "    #opening a run page\n",
      "    niffteweb = \"http://nuclear.calpoly.edu/niffteweb/runinfo/run/40000\" + str(runno)\n",
      "    try:\n",
      "        response = urllib2.urlopen(niffteweb, timeout = 2)\n",
      "    except urllib2.URLError:\n",
      "        print 'URL error, run ' + str(runno)\n",
      "        continue\n",
      "    html = response.read()\n",
      "    \n",
      "    #finding the table in the html\n",
      "    soup = BeautifulSoup(html)\n",
      "    table = soup.find('table')\n",
      "\n",
      "    #creating a list of strings from the data table\n",
      "    run = []\n",
      "    try :\n",
      "        for i in table.children:\n",
      "            run.append(str(i))\n",
      "    except AttributeError:\n",
      "        print 'table error, run ' + str(i)\n",
      "        continue\n",
      "    run = run[1:-1]\n",
      "\n",
      "    #string manipulation to get data into arrays\n",
      "    for j in run:\n",
      "        if 'Length' in j:\n",
      "            j = j[10:]\n",
      "            j = j[:-11]\n",
      "            a = j.split(' </th>\\n<td> ')[1]\n",
      "            a = a.split(' min')[0]\n",
      "            runlengths.append((float(a), str(runno)))\n",
      "        if 'Target' in j:\n",
      "            j = j[10:]\n",
      "            j = j[:-11]\n",
      "            a = j.split(' </th>\\n<td> ')[1]\n",
      "            target.append((a,str(runno)))\n",
      "        if 'Gas' in j:\n",
      "            j = j[10:]\n",
      "            j = j[:-11]\n",
      "            a = j.split(' </th>\\n<td> ')[1]\n",
      "            gas.append((a, str(runno)))"
     ],
     "language": "python",
     "metadata": {},
     "outputs": [
      {
       "output_type": "stream",
       "stream": "stdout",
       "text": [
        "run 400004500\n",
        "run 400004550"
       ]
      },
      {
       "output_type": "stream",
       "stream": "stdout",
       "text": [
        "\n",
        "run 400004600"
       ]
      },
      {
       "output_type": "stream",
       "stream": "stdout",
       "text": [
        "\n",
        "run 400004650"
       ]
      },
      {
       "output_type": "stream",
       "stream": "stdout",
       "text": [
        "\n",
        "URL error, run 4686"
       ]
      },
      {
       "output_type": "stream",
       "stream": "stdout",
       "text": [
        "\n",
        "URL error, run 4687"
       ]
      },
      {
       "output_type": "stream",
       "stream": "stdout",
       "text": [
        "\n",
        "URL error, run 4688"
       ]
      },
      {
       "output_type": "stream",
       "stream": "stdout",
       "text": [
        "\n",
        "URL error, run 4689"
       ]
      },
      {
       "output_type": "stream",
       "stream": "stdout",
       "text": [
        "\n",
        "run 400004700"
       ]
      },
      {
       "output_type": "stream",
       "stream": "stdout",
       "text": [
        "\n",
        "run 400004750"
       ]
      },
      {
       "output_type": "stream",
       "stream": "stdout",
       "text": [
        "\n",
        "run 400004800"
       ]
      },
      {
       "output_type": "stream",
       "stream": "stdout",
       "text": [
        "\n",
        "table error, run 4830"
       ]
      },
      {
       "output_type": "stream",
       "stream": "stdout",
       "text": [
        "\n",
        "table error, run 4846"
       ]
      },
      {
       "output_type": "stream",
       "stream": "stdout",
       "text": [
        "\n",
        "run 400004850"
       ]
      },
      {
       "output_type": "stream",
       "stream": "stdout",
       "text": [
        "\n",
        "URL error, run 4882"
       ]
      },
      {
       "output_type": "stream",
       "stream": "stdout",
       "text": [
        "\n",
        "URL error, run 4883"
       ]
      },
      {
       "output_type": "stream",
       "stream": "stdout",
       "text": [
        "\n",
        "URL error, run 4884"
       ]
      },
      {
       "output_type": "stream",
       "stream": "stdout",
       "text": [
        "\n",
        "URL error, run 4885"
       ]
      },
      {
       "output_type": "stream",
       "stream": "stdout",
       "text": [
        "\n",
        "table error, run 4890"
       ]
      },
      {
       "output_type": "stream",
       "stream": "stdout",
       "text": [
        "\n",
        "table error, run 4894"
       ]
      },
      {
       "output_type": "stream",
       "stream": "stdout",
       "text": [
        "\n",
        "table error, run 4899"
       ]
      },
      {
       "output_type": "stream",
       "stream": "stdout",
       "text": [
        "\n",
        "run 400004900\n",
        "run 400004950"
       ]
      },
      {
       "output_type": "stream",
       "stream": "stdout",
       "text": [
        "\n",
        "run 400005000"
       ]
      },
      {
       "output_type": "stream",
       "stream": "stdout",
       "text": [
        "\n",
        "run 400005050"
       ]
      },
      {
       "output_type": "stream",
       "stream": "stdout",
       "text": [
        "\n",
        "URL error, run 5078"
       ]
      },
      {
       "output_type": "stream",
       "stream": "stdout",
       "text": [
        "\n",
        "URL error, run 5079"
       ]
      },
      {
       "output_type": "stream",
       "stream": "stdout",
       "text": [
        "\n",
        "URL error, run 5080"
       ]
      },
      {
       "output_type": "stream",
       "stream": "stdout",
       "text": [
        "\n",
        "URL error, run 5081"
       ]
      },
      {
       "output_type": "stream",
       "stream": "stdout",
       "text": [
        "\n",
        "run 400005100"
       ]
      },
      {
       "output_type": "stream",
       "stream": "stdout",
       "text": [
        "\n",
        "run 400005150"
       ]
      },
      {
       "output_type": "stream",
       "stream": "stdout",
       "text": [
        "\n",
        "run 400005200"
       ]
      },
      {
       "output_type": "stream",
       "stream": "stdout",
       "text": [
        "\n",
        "run 400005250"
       ]
      },
      {
       "output_type": "stream",
       "stream": "stdout",
       "text": [
        "\n",
        "URL error, run 5276"
       ]
      },
      {
       "output_type": "stream",
       "stream": "stdout",
       "text": [
        "\n",
        "URL error, run 5277"
       ]
      },
      {
       "output_type": "stream",
       "stream": "stdout",
       "text": [
        "\n",
        "URL error, run 5278"
       ]
      },
      {
       "output_type": "stream",
       "stream": "stdout",
       "text": [
        "\n",
        "URL error, run 5279"
       ]
      },
      {
       "output_type": "stream",
       "stream": "stdout",
       "text": [
        "\n",
        "run 400005300"
       ]
      },
      {
       "output_type": "stream",
       "stream": "stdout",
       "text": [
        "\n",
        "run 400005350"
       ]
      },
      {
       "output_type": "stream",
       "stream": "stdout",
       "text": [
        "\n"
       ]
      }
     ],
     "prompt_number": 4
    },
    {
     "cell_type": "code",
     "collapsed": false,
     "input": [
      "print runlengths[3]\n",
      "print gas[2][0]"
     ],
     "language": "python",
     "metadata": {},
     "outputs": [
      {
       "output_type": "stream",
       "stream": "stdout",
       "text": [
        "(0.5, '4497')\n",
        "0.5% Isobutane, Ar \n"
       ]
      }
     ],
     "prompt_number": 12
    },
    {
     "cell_type": "code",
     "collapsed": false,
     "input": [
      "import operator\n",
      "runtimes = []\n",
      "gasonly = [x[0] for x in gas]\n",
      "taronly = [x[0] for x in target]\n",
      "for i in runlengths:\n",
      "    runtimes.append(i[0])\n",
      "\n",
      "#plotting runlengths in a histogram\n",
      "hist(runtimes, bins=12, range=(0,30))\n",
      "title(\"Histogram of run lengths\")\n",
      "ylabel(\"runs\")\n",
      "xlabel(\"run length in minutes\")\n",
      "show()\n",
      "savefig('runhisto.png')\n",
      "\n",
      "#plotting gas histo\n",
      "gasdict = dict((x, gasonly.count(x)) for x in gasonly)\n",
      "sorted_gas = sorted(gasdict.iteritems(), key=operator.itemgetter(1))\n",
      "print 'GAS:'\n",
      "for i in sorted_gas: print i\n",
      "\n",
      "#targets\n",
      "targetdict = dict((x, taronly.count(x)) for x in taronly)\n",
      "sorted_target = sorted(targetdict.iteritems(), key=operator.itemgetter(1))\n",
      "print 'Target:'\n",
      "for i in sorted_target: print i"
     ],
     "language": "python",
     "metadata": {},
     "outputs": [
      {
       "output_type": "display_data",
       "png": "[encoded data removed]"
      },
      {
       "output_type": "stream",
       "stream": "stdout",
       "text": [
        "GAS:\n",
        "('95% Ar 2% Isobutane ', 1)\n",
        "('98% Ar 3% Isobutane ', 4)\n",
        "('95% Ar 5% Isobutane (eventually ', 7)\n",
        "('97% Ar 3% Isobutane ', 12)\n",
        "('98% Ar 2% Isobutane ', 12)\n",
        "('10% Isobutane, Ar ', 14)\n",
        "('2% Iso/Ar ', 14)\n",
        "('1% Isobutane, Ar ', 32)\n",
        "('5% Iso/Ar ', 35)\n",
        "('P10 ', 46)\n",
        "('3% Isobutane, Ar ', 49)\n",
        "('5% Isobutane, Ar ', 92)\n",
        "('P-10 ', 123)\n",
        "('2% Isobutane, Ar ', 124)\n",
        "('95% Ar 5% Isobutane ', 141)\n",
        "('0.5% Isobutane, Ar ', 145)\n",
        "Target:\n",
        "('Pu239/Polypropylene ', 3)\n",
        "('Pu239/Polypropylene-thin ', 11)\n",
        "('Pu239/Polypropylene, thin ', 350)\n",
        "('U235/Pu239 ', 487)\n"
       ]
      }
     ],
     "prompt_number": 15
    },
    {
     "cell_type": "code",
     "collapsed": false,
     "input": [
      "#figure out which fraction of the 20 minute runs are in those top 3 gas and which target they are\n",
      "gastwenty, tartwenty, runlist = [], [], []\n",
      "for i in range(len(runlengths)):\n",
      "    if runlengths[i][0] == 20.0:\n",
      "        gastwenty.append(gas[i])\n",
      "        tartwenty.append(target[i])\n",
      "    if gas[i][0] == '0.5% Isobutane, Ar ' and target[i][0] == 'U235/Pu239 ':   #choosing specific runs \n",
      "        runlist.append((gas[i][0], target[i][0], gas[i][1]))\n",
      "        \n",
      "tot = 0\n",
      "#sorting and displaying gas\n",
      "gasonly20 = [x[0] for x in gastwenty]\n",
      "gasdict = dict((x, gasonly20.count(x)) for x in gasonly20)\n",
      "sorted_gas = sorted(gasdict.iteritems(), key=operator.itemgetter(1))\n",
      "print '20.0 minute gas:'\n",
      "for i in sorted_gas:\n",
      "    tot += i[1]\n",
      "print tot\n",
      "for i in sorted_gas:\n",
      "    a = (float(i[1])/tot) * 100\n",
      "    print str(i[0]) + ': ' + (\"%.2f\" % a) + '%'\n",
      "    \n",
      "#sorting and displaying targets\n",
      "taronly20 = [x[0] for x in tartwenty]\n",
      "targetdict = dict((x, taronly20.count(x)) for x in taronly20)\n",
      "sorted_target = sorted(targetdict.iteritems(), key=operator.itemgetter(1))\n",
      "tot =0\n",
      "print '\\n20.0 minute targets:'\n",
      "for i in sorted_target:\n",
      "    tot += i[1]\n",
      "print tot\n",
      "for i in sorted_target:\n",
      "    a = (float(i[1])/tot) * 100\n",
      "    print str(i[0]) + ': ' + (\"%.2f\" % a) + '%'"
     ],
     "language": "python",
     "metadata": {},
     "outputs": [
      {
       "output_type": "stream",
       "stream": "stdout",
       "text": [
        "20.0 minute gas:\n",
        "323\n",
        "2% Iso/Ar : 0.31%\n",
        "P10 : 1.55%\n",
        "1% Isobutane, Ar : 3.10%\n",
        "3% Isobutane, Ar : 3.10%\n",
        "95% Ar 5% Isobutane : 5.88%\n",
        "5% Iso/Ar : 8.36%\n",
        "5% Isobutane, Ar : 12.07%\n",
        "P-10 : 13.00%\n",
        "2% Isobutane, Ar : 22.29%\n",
        "0.5% Isobutane, Ar : 30.34%\n",
        "\n",
        "20.0 minute targets:\n",
        "323\n",
        "Pu239/Polypropylene, thin : 17.65%\n",
        "U235/Pu239 : 82.35%\n"
       ]
      }
     ],
     "prompt_number": 34
    },
    {
     "cell_type": "code",
     "collapsed": false,
     "input": [
      "print len(runlist)\n",
      "for i in runlist: print i"
     ],
     "language": "python",
     "metadata": {},
     "outputs": [
      {
       "output_type": "stream",
       "stream": "stdout",
       "text": [
        "145\n",
        "('0.5% Isobutane, Ar ', 'U235/Pu239 ', '4494')\n",
        "('0.5% Isobutane, Ar ', 'U235/Pu239 ', '4495')\n",
        "('0.5% Isobutane, Ar ', 'U235/Pu239 ', '4496')\n",
        "('0.5% Isobutane, Ar ', 'U235/Pu239 ', '4497')\n",
        "('0.5% Isobutane, Ar ', 'U235/Pu239 ', '4498')\n",
        "('0.5% Isobutane, Ar ', 'U235/Pu239 ', '4499')\n",
        "('0.5% Isobutane, Ar ', 'U235/Pu239 ', '4500')\n",
        "('0.5% Isobutane, Ar ', 'U235/Pu239 ', '4501')\n",
        "('0.5% Isobutane, Ar ', 'U235/Pu239 ', '4502')\n",
        "('0.5% Isobutane, Ar ', 'U235/Pu239 ', '4503')\n",
        "('0.5% Isobutane, Ar ', 'U235/Pu239 ', '4504')\n",
        "('0.5% Isobutane, Ar ', 'U235/Pu239 ', '4505')\n",
        "('0.5% Isobutane, Ar ', 'U235/Pu239 ', '4506')\n",
        "('0.5% Isobutane, Ar ', 'U235/Pu239 ', '4507')\n",
        "('0.5% Isobutane, Ar ', 'U235/Pu239 ', '4704')\n",
        "('0.5% Isobutane, Ar ', 'U235/Pu239 ', '4705')\n",
        "('0.5% Isobutane, Ar ', 'U235/Pu239 ', '4706')\n",
        "('0.5% Isobutane, Ar ', 'U235/Pu239 ', '4707')\n",
        "('0.5% Isobutane, Ar ', 'U235/Pu239 ', '4708')\n",
        "('0.5% Isobutane, Ar ', 'U235/Pu239 ', '4709')\n",
        "('0.5% Isobutane, Ar ', 'U235/Pu239 ', '4710')\n",
        "('0.5% Isobutane, Ar ', 'U235/Pu239 ', '4711')\n",
        "('0.5% Isobutane, Ar ', 'U235/Pu239 ', '4712')\n",
        "('0.5% Isobutane, Ar ', 'U235/Pu239 ', '4713')\n",
        "('0.5% Isobutane, Ar ', 'U235/Pu239 ', '4714')\n",
        "('0.5% Isobutane, Ar ', 'U235/Pu239 ', '4715')\n",
        "('0.5% Isobutane, Ar ', 'U235/Pu239 ', '4716')\n",
        "('0.5% Isobutane, Ar ', 'U235/Pu239 ', '4717')\n",
        "('0.5% Isobutane, Ar ', 'U235/Pu239 ', '4718')\n",
        "('0.5% Isobutane, Ar ', 'U235/Pu239 ', '4719')\n",
        "('0.5% Isobutane, Ar ', 'U235/Pu239 ', '4720')\n",
        "('0.5% Isobutane, Ar ', 'U235/Pu239 ', '4721')\n",
        "('0.5% Isobutane, Ar ', 'U235/Pu239 ', '4722')\n",
        "('0.5% Isobutane, Ar ', 'U235/Pu239 ', '4723')\n",
        "('0.5% Isobutane, Ar ', 'U235/Pu239 ', '4724')\n",
        "('0.5% Isobutane, Ar ', 'U235/Pu239 ', '4725')\n",
        "('0.5% Isobutane, Ar ', 'U235/Pu239 ', '4726')\n",
        "('0.5% Isobutane, Ar ', 'U235/Pu239 ', '4727')\n",
        "('0.5% Isobutane, Ar ', 'U235/Pu239 ', '4728')\n",
        "('0.5% Isobutane, Ar ', 'U235/Pu239 ', '4729')\n",
        "('0.5% Isobutane, Ar ', 'U235/Pu239 ', '4730')\n",
        "('0.5% Isobutane, Ar ', 'U235/Pu239 ', '4731')\n",
        "('0.5% Isobutane, Ar ', 'U235/Pu239 ', '4732')\n",
        "('0.5% Isobutane, Ar ', 'U235/Pu239 ', '4733')\n",
        "('0.5% Isobutane, Ar ', 'U235/Pu239 ', '4734')\n",
        "('0.5% Isobutane, Ar ', 'U235/Pu239 ', '4735')\n",
        "('0.5% Isobutane, Ar ', 'U235/Pu239 ', '4736')\n",
        "('0.5% Isobutane, Ar ', 'U235/Pu239 ', '4737')\n",
        "('0.5% Isobutane, Ar ', 'U235/Pu239 ', '4738')\n",
        "('0.5% Isobutane, Ar ', 'U235/Pu239 ', '4739')\n",
        "('0.5% Isobutane, Ar ', 'U235/Pu239 ', '4740')\n",
        "('0.5% Isobutane, Ar ', 'U235/Pu239 ', '4741')\n",
        "('0.5% Isobutane, Ar ', 'U235/Pu239 ', '4742')\n",
        "('0.5% Isobutane, Ar ', 'U235/Pu239 ', '4743')\n",
        "('0.5% Isobutane, Ar ', 'U235/Pu239 ', '4744')\n",
        "('0.5% Isobutane, Ar ', 'U235/Pu239 ', '4745')\n",
        "('0.5% Isobutane, Ar ', 'U235/Pu239 ', '4746')\n",
        "('0.5% Isobutane, Ar ', 'U235/Pu239 ', '4747')\n",
        "('0.5% Isobutane, Ar ', 'U235/Pu239 ', '4748')\n",
        "('0.5% Isobutane, Ar ', 'U235/Pu239 ', '4749')\n",
        "('0.5% Isobutane, Ar ', 'U235/Pu239 ', '4750')\n",
        "('0.5% Isobutane, Ar ', 'U235/Pu239 ', '4751')\n",
        "('0.5% Isobutane, Ar ', 'U235/Pu239 ', '4752')\n",
        "('0.5% Isobutane, Ar ', 'U235/Pu239 ', '4753')\n",
        "('0.5% Isobutane, Ar ', 'U235/Pu239 ', '4754')\n",
        "('0.5% Isobutane, Ar ', 'U235/Pu239 ', '4755')\n",
        "('0.5% Isobutane, Ar ', 'U235/Pu239 ', '4756')\n",
        "('0.5% Isobutane, Ar ', 'U235/Pu239 ', '4757')\n",
        "('0.5% Isobutane, Ar ', 'U235/Pu239 ', '4758')\n",
        "('0.5% Isobutane, Ar ', 'U235/Pu239 ', '4759')\n",
        "('0.5% Isobutane, Ar ', 'U235/Pu239 ', '4760')\n",
        "('0.5% Isobutane, Ar ', 'U235/Pu239 ', '4761')\n",
        "('0.5% Isobutane, Ar ', 'U235/Pu239 ', '4762')\n",
        "('0.5% Isobutane, Ar ', 'U235/Pu239 ', '4763')\n",
        "('0.5% Isobutane, Ar ', 'U235/Pu239 ', '4764')\n",
        "('0.5% Isobutane, Ar ', 'U235/Pu239 ', '4765')\n",
        "('0.5% Isobutane, Ar ', 'U235/Pu239 ', '4766')\n",
        "('0.5% Isobutane, Ar ', 'U235/Pu239 ', '4767')\n",
        "('0.5% Isobutane, Ar ', 'U235/Pu239 ', '4768')\n",
        "('0.5% Isobutane, Ar ', 'U235/Pu239 ', '4769')\n",
        "('0.5% Isobutane, Ar ', 'U235/Pu239 ', '4770')\n",
        "('0.5% Isobutane, Ar ', 'U235/Pu239 ', '4771')\n",
        "('0.5% Isobutane, Ar ', 'U235/Pu239 ', '4772')\n",
        "('0.5% Isobutane, Ar ', 'U235/Pu239 ', '4773')\n",
        "('0.5% Isobutane, Ar ', 'U235/Pu239 ', '4774')\n",
        "('0.5% Isobutane, Ar ', 'U235/Pu239 ', '4775')\n",
        "('0.5% Isobutane, Ar ', 'U235/Pu239 ', '4776')\n",
        "('0.5% Isobutane, Ar ', 'U235/Pu239 ', '4777')\n",
        "('0.5% Isobutane, Ar ', 'U235/Pu239 ', '4778')\n",
        "('0.5% Isobutane, Ar ', 'U235/Pu239 ', '4779')\n",
        "('0.5% Isobutane, Ar ', 'U235/Pu239 ', '4780')\n",
        "('0.5% Isobutane, Ar ', 'U235/Pu239 ', '4781')\n",
        "('0.5% Isobutane, Ar ', 'U235/Pu239 ', '4782')\n",
        "('0.5% Isobutane, Ar ', 'U235/Pu239 ', '4783')\n",
        "('0.5% Isobutane, Ar ', 'U235/Pu239 ', '4784')\n",
        "('0.5% Isobutane, Ar ', 'U235/Pu239 ', '4785')\n",
        "('0.5% Isobutane, Ar ', 'U235/Pu239 ', '4786')\n",
        "('0.5% Isobutane, Ar ', 'U235/Pu239 ', '4787')\n",
        "('0.5% Isobutane, Ar ', 'U235/Pu239 ', '4788')\n",
        "('0.5% Isobutane, Ar ', 'U235/Pu239 ', '4789')\n",
        "('0.5% Isobutane, Ar ', 'U235/Pu239 ', '4790')\n",
        "('0.5% Isobutane, Ar ', 'U235/Pu239 ', '4791')\n",
        "('0.5% Isobutane, Ar ', 'U235/Pu239 ', '4792')\n",
        "('0.5% Isobutane, Ar ', 'U235/Pu239 ', '4793')\n",
        "('0.5% Isobutane, Ar ', 'U235/Pu239 ', '4794')\n",
        "('0.5% Isobutane, Ar ', 'U235/Pu239 ', '4795')\n",
        "('0.5% Isobutane, Ar ', 'U235/Pu239 ', '4796')\n",
        "('0.5% Isobutane, Ar ', 'U235/Pu239 ', '4797')\n",
        "('0.5% Isobutane, Ar ', 'U235/Pu239 ', '4798')\n",
        "('0.5% Isobutane, Ar ', 'U235/Pu239 ', '4799')\n",
        "('0.5% Isobutane, Ar ', 'U235/Pu239 ', '4800')\n",
        "('0.5% Isobutane, Ar ', 'U235/Pu239 ', '4801')\n",
        "('0.5% Isobutane, Ar ', 'U235/Pu239 ', '4802')\n",
        "('0.5% Isobutane, Ar ', 'U235/Pu239 ', '4803')\n",
        "('0.5% Isobutane, Ar ', 'U235/Pu239 ', '4804')\n",
        "('0.5% Isobutane, Ar ', 'U235/Pu239 ', '4805')\n",
        "('0.5% Isobutane, Ar ', 'U235/Pu239 ', '4806')\n",
        "('0.5% Isobutane, Ar ', 'U235/Pu239 ', '4807')\n",
        "('0.5% Isobutane, Ar ', 'U235/Pu239 ', '4808')\n",
        "('0.5% Isobutane, Ar ', 'U235/Pu239 ', '4809')\n",
        "('0.5% Isobutane, Ar ', 'U235/Pu239 ', '4810')\n",
        "('0.5% Isobutane, Ar ', 'U235/Pu239 ', '4811')\n",
        "('0.5% Isobutane, Ar ', 'U235/Pu239 ', '4812')\n",
        "('0.5% Isobutane, Ar ', 'U235/Pu239 ', '4813')\n",
        "('0.5% Isobutane, Ar ', 'U235/Pu239 ', '4814')\n",
        "('0.5% Isobutane, Ar ', 'U235/Pu239 ', '4815')\n",
        "('0.5% Isobutane, Ar ', 'U235/Pu239 ', '4816')\n",
        "('0.5% Isobutane, Ar ', 'U235/Pu239 ', '4817')\n",
        "('0.5% Isobutane, Ar ', 'U235/Pu239 ', '4818')\n",
        "('0.5% Isobutane, Ar ', 'U235/Pu239 ', '4819')\n",
        "('0.5% Isobutane, Ar ', 'U235/Pu239 ', '4820')\n",
        "('0.5% Isobutane, Ar ', 'U235/Pu239 ', '4821')\n",
        "('0.5% Isobutane, Ar ', 'U235/Pu239 ', '4822')\n",
        "('0.5% Isobutane, Ar ', 'U235/Pu239 ', '4823')\n",
        "('0.5% Isobutane, Ar ', 'U235/Pu239 ', '4824')\n",
        "('0.5% Isobutane, Ar ', 'U235/Pu239 ', '4825')\n",
        "('0.5% Isobutane, Ar ', 'U235/Pu239 ', '4826')\n",
        "('0.5% Isobutane, Ar ', 'U235/Pu239 ', '4827')\n",
        "('0.5% Isobutane, Ar ', 'U235/Pu239 ', '4828')\n",
        "('0.5% Isobutane, Ar ', 'U235/Pu239 ', '4829')\n",
        "('0.5% Isobutane, Ar ', 'U235/Pu239 ', '4831')\n",
        "('0.5% Isobutane, Ar ', 'U235/Pu239 ', '4832')\n",
        "('0.5% Isobutane, Ar ', 'U235/Pu239 ', '4833')\n",
        "('0.5% Isobutane, Ar ', 'U235/Pu239 ', '4834')\n",
        "('0.5% Isobutane, Ar ', 'U235/Pu239 ', '4835')\n"
       ]
      }
     ],
     "prompt_number": 29
    },
    {
     "cell_type": "code",
     "collapsed": false,
     "input": [],
     "language": "python",
     "metadata": {},
     "outputs": []
    }
   ],
   "metadata": {}
  }
 ]
}